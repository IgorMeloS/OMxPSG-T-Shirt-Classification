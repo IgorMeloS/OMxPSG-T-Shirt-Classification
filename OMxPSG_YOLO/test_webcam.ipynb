{
 "cells": [
  {
   "cell_type": "markdown",
   "id": "c77a7583",
   "metadata": {},
   "source": [
    "# Testing the trained model with webcam"
   ]
  },
  {
   "cell_type": "markdown",
   "id": "89e61d7f",
   "metadata": {},
   "source": [
    "## Importing libraries"
   ]
  },
  {
   "cell_type": "code",
   "execution_count": null,
   "id": "a315f4e8",
   "metadata": {},
   "outputs": [],
   "source": [
    "import torch\n",
    "import numpy as np\n",
    "import cv2\n",
    "import imutils"
   ]
  },
  {
   "cell_type": "markdown",
   "id": "3f219a3c",
   "metadata": {},
   "source": [
    "## Defining the model"
   ]
  },
  {
   "cell_type": "code",
   "execution_count": null,
   "id": "0d4681a9",
   "metadata": {},
   "outputs": [],
   "source": [
    "model = torch.hub.load('ultralytics/yolov5', 'custom', path='results/exp/weights/best.pt', force_reload=True)"
   ]
  },
  {
   "cell_type": "markdown",
   "id": "f668b2e8",
   "metadata": {},
   "source": [
    "## Detecting with webcam"
   ]
  },
  {
   "cell_type": "code",
   "execution_count": null,
   "id": "8ad229e7",
   "metadata": {},
   "outputs": [],
   "source": [
    "cap = cv2.VideoCapture(0) # 0 is the key for the webcam in this PC, it can change\n",
    "while cap.isOpened():\n",
    "    ret, frame = cap.read()\n",
    "    \n",
    "    # Make detections \n",
    "    frame = imutils.resize(frame, width=1000, height=1800)\n",
    "    results = model(frame)\n",
    "    \n",
    "    cv2.imshow('OMxPSG Yolo', np.squeeze(results.render()))\n",
    "    \n",
    "    if cv2.waitKey(10) & 0xFF == ord('q'):\n",
    "        break\n",
    "    \n",
    "cap.release()\n",
    "cv2.destroyAllWindows()"
   ]
  }
 ],
 "metadata": {
  "kernelspec": {
   "display_name": "Python 3 (ipykernel)",
   "language": "python",
   "name": "python3"
  },
  "language_info": {
   "codemirror_mode": {
    "name": "ipython",
    "version": 3
   },
   "file_extension": ".py",
   "mimetype": "text/x-python",
   "name": "python",
   "nbconvert_exporter": "python",
   "pygments_lexer": "ipython3",
   "version": "3.7.0"
  }
 },
 "nbformat": 4,
 "nbformat_minor": 5
}
