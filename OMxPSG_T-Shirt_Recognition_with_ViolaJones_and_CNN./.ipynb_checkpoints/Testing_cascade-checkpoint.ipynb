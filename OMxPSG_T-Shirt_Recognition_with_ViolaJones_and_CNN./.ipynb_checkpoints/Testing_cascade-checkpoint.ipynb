{
 "cells": [
  {
   "cell_type": "code",
   "execution_count": 1,
   "id": "da87b9b7",
   "metadata": {},
   "outputs": [],
   "source": [
    "# Importing Libraries\n",
    "import numpy as np\n",
    "import matplotlib.pyplot as plt\n",
    "import cv2\n",
    "from os import listdir, path"
   ]
  },
  {
   "cell_type": "markdown",
   "id": "2822ac7d",
   "metadata": {},
   "source": [
    "https://www.youtube.com/watch?v=WfdYYNamHZ8"
   ]
  },
  {
   "cell_type": "markdown",
   "id": "eb2cc9c8",
   "metadata": {},
   "source": [
    "## Setting the paths and files"
   ]
  },
  {
   "cell_type": "code",
   "execution_count": 2,
   "id": "a9176e91",
   "metadata": {},
   "outputs": [],
   "source": [
    "pos_set =  path.abspath(\"test/pos\") # path to the positive images\n",
    "neg_set =  path.abspath(\"test/neg\") # path to the negative images\n",
    "cascade = \"cascade.xml\" # path to the cascade xml file"
   ]
  },
  {
   "cell_type": "markdown",
   "id": "b3f6cb9d",
   "metadata": {},
   "source": [
    "## Testing the Viola-Jones algorithm for T-shirt recognition"
   ]
  },
  {
   "cell_type": "code",
   "execution_count": 3,
   "id": "db0bbb31",
   "metadata": {},
   "outputs": [],
   "source": [
    "tshirt_cascade = cv2.CascadeClassifier(cascade) # loading the cascade file to t-shirt recognition\n"
   ]
  },
  {
   "cell_type": "markdown",
   "id": "4d1bfc14",
   "metadata": {},
   "source": [
    "### Positive images"
   ]
  },
  {
   "cell_type": "code",
   "execution_count": 4,
   "id": "d54304d8",
   "metadata": {},
   "outputs": [
    {
     "ename": "FileNotFoundError",
     "evalue": "[Errno 2] No such file or directory: '/home/igor/Documents/GitHub/OMxPSG T-Shirt Recognition/OMxPSG_T-Shirt_Recognition_with_ViolaJones_and_CNN./test/pos'",
     "output_type": "error",
     "traceback": [
      "\u001b[0;31m---------------------------------------------------------------------------\u001b[0m",
      "\u001b[0;31mFileNotFoundError\u001b[0m                         Traceback (most recent call last)",
      "\u001b[0;32m<ipython-input-4-a2c5975d1504>\u001b[0m in \u001b[0;36m<module>\u001b[0;34m\u001b[0m\n\u001b[0;32m----> 1\u001b[0;31m \u001b[0mpos_list\u001b[0m \u001b[0;34m=\u001b[0m \u001b[0mlistdir\u001b[0m\u001b[0;34m(\u001b[0m\u001b[0mpos_set\u001b[0m\u001b[0;34m)\u001b[0m \u001b[0;31m# making a list with the posite images\u001b[0m\u001b[0;34m\u001b[0m\u001b[0;34m\u001b[0m\u001b[0m\n\u001b[0m",
      "\u001b[0;31mFileNotFoundError\u001b[0m: [Errno 2] No such file or directory: '/home/igor/Documents/GitHub/OMxPSG T-Shirt Recognition/OMxPSG_T-Shirt_Recognition_with_ViolaJones_and_CNN./test/pos'"
     ]
    }
   ],
   "source": [
    "pos_list = listdir(pos_set) # making a list with the posite images"
   ]
  },
  {
   "cell_type": "code",
   "execution_count": null,
   "id": "95c780da",
   "metadata": {},
   "outputs": [],
   "source": [
    "# Defining the function to detect the images\n",
    "def detect(gray, image):\n",
    "    tshirt =  tshirt_cascade.detectMultiScale(gray, 3.5, 10, minSize=(50, 50))\n",
    "    for (x, y, w, h) in tshirt:\n",
    "        cv2.rectangle(image, (x, y), (x+w, y+h), (255, 0, 0), 2)\n",
    "        roi_gray = gray[y:y+h, x:x+w]\n",
    "        roi_color = image[y:y+h, x:x+w]\n",
    "    return image"
   ]
  },
  {
   "cell_type": "code",
   "execution_count": null,
   "id": "428f7f77",
   "metadata": {},
   "outputs": [],
   "source": [
    "# Detecting on the positive image set \n",
    "count = 1\n",
    "plt.figure(figsize=(20, 20))\n",
    "for i in pos_list:\n",
    "    img = pos_set + \"/\" + i # setting te image\n",
    "    image = cv2.imread(img)\n",
    "    gray = cv2.cvtColor(image, cv2.COLOR_BGR2GRAY)\n",
    "    canvas = detect(gray, image)\n",
    "    ax = plt.subplot(4, 5, count)\n",
    "    plt.imshow(cv2.cvtColor(canvas, cv2.COLOR_BGR2RGB))\n",
    "    plt.axis(\"off\")\n",
    "    count += 1\n",
    "plt.show()   \n"
   ]
  },
  {
   "cell_type": "markdown",
   "id": "b2ddfba1",
   "metadata": {},
   "source": [
    "### Positive images"
   ]
  },
  {
   "cell_type": "code",
   "execution_count": null,
   "id": "1aecdc97",
   "metadata": {},
   "outputs": [],
   "source": [
    "neg_list = listdir(neg_set) # making a list with the posite images"
   ]
  },
  {
   "cell_type": "code",
   "execution_count": null,
   "id": "0284050a",
   "metadata": {},
   "outputs": [],
   "source": [
    "count = 1\n",
    "plt.figure(figsize=(20, 20))\n",
    "for i in neg_list:\n",
    "    img = neg_set + \"/\" + i # setting te image\n",
    "    image = cv2.imread(img)\n",
    "    gray1 = cv2.cvtColor(image, cv2.COLOR_BGR2GRAY)\n",
    "    canvas = detect(gray1, image)\n",
    "    ax = plt.subplot(4, 5, count)\n",
    "    plt.imshow(cv2.cvtColor(image, cv2.COLOR_BGR2RGB))\n",
    "    plt.axis(\"off\")\n",
    "    count += 1\n",
    "plt.show()   \n"
   ]
  },
  {
   "cell_type": "code",
   "execution_count": null,
   "id": "be0e9db9",
   "metadata": {},
   "outputs": [],
   "source": []
  },
  {
   "cell_type": "code",
   "execution_count": null,
   "id": "de8e2b29",
   "metadata": {},
   "outputs": [],
   "source": []
  }
 ],
 "metadata": {
  "kernelspec": {
   "display_name": "Python 3",
   "language": "python",
   "name": "python3"
  },
  "language_info": {
   "codemirror_mode": {
    "name": "ipython",
    "version": 3
   },
   "file_extension": ".py",
   "mimetype": "text/x-python",
   "name": "python",
   "nbconvert_exporter": "python",
   "pygments_lexer": "ipython3",
   "version": "3.6.13"
  }
 },
 "nbformat": 4,
 "nbformat_minor": 5
}
